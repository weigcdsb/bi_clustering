{
 "cells": [
  {
   "cell_type": "code",
   "execution_count": 1,
   "metadata": {},
   "outputs": [
    {
     "name": "stderr",
     "output_type": "stream",
     "text": [
      "/home/gw2397/.local/lib/python3.8/site-packages/numpy/core/getlimits.py:499: UserWarning: The value of the smallest subnormal for <class 'numpy.float64'> type is zero.\n",
      "  setattr(self, word, getattr(machar, word).flat[0])\n",
      "/home/gw2397/.local/lib/python3.8/site-packages/numpy/core/getlimits.py:89: UserWarning: The value of the smallest subnormal for <class 'numpy.float64'> type is zero.\n",
      "  return self._float_to_str(self.smallest_subnormal)\n",
      "/home/gw2397/.local/lib/python3.8/site-packages/numpy/core/getlimits.py:499: UserWarning: The value of the smallest subnormal for <class 'numpy.float32'> type is zero.\n",
      "  setattr(self, word, getattr(machar, word).flat[0])\n",
      "/home/gw2397/.local/lib/python3.8/site-packages/numpy/core/getlimits.py:89: UserWarning: The value of the smallest subnormal for <class 'numpy.float32'> type is zero.\n",
      "  return self._float_to_str(self.smallest_subnormal)\n"
     ]
    }
   ],
   "source": [
    "from __future__ import division\n",
    "import sys\n",
    "sys.path.insert(0, '/home/gw2397/cluster_new')\n",
    "sys.path.insert(0, '/home/gw2397/pyhsmm-autoregressive-master')\n",
    "sys.path.insert(0, '/home/gw2397/nbRegg_mcmc')\n",
    "\n",
    "import numpy as np\n",
    "from matplotlib import pyplot as plt\n",
    "from scipy.linalg import *\n",
    "from scipy.interpolate import *\n",
    "from cluster_functions import *\n",
    "\n",
    "\n",
    "import pyhsmm\n",
    "from pyhsmm.util.text import progprint_xrange\n",
    "from pyhsmm.util.stats import whiten, cov\n",
    "\n",
    "import autoregressive.models as m\n",
    "import autoregressive.distributions as d\n",
    "\n",
    "from polyagamma import random_polyagamma\n",
    "from pyhmc import hmc\n",
    "import statsmodels.api as sm\n",
    "import statsmodels.formula.api as smf\n",
    "from scipy.special import gamma, digamma\n",
    "from scipy.stats import norm, nbinom, multivariate_normal, poisson\n",
    "from tqdm import tqdm\n",
    "import heapq\n",
    "\n",
    "import numpy.matlib\n",
    "import time\n",
    "from IPython import display\n",
    "\n",
    "import warnings\n",
    "warnings.filterwarnings(\"ignore\")\n",
    "import copy\n",
    "\n",
    "import pickle\n",
    "\n",
    "from pymc3_hpd import *\n",
    "from scipy import stats\n",
    "from scipy.linalg import lstsq"
   ]
  },
  {
   "cell_type": "code",
   "execution_count": 2,
   "metadata": {},
   "outputs": [],
   "source": [
    "from __future__ import division\n",
    "import sys\n",
    "sys.path.insert(0, '/home/gw2397/cluster_new')\n",
    "sys.path.insert(0, '/home/gw2397/pyhsmm-autoregressive-master')\n",
    "sys.path.insert(0, '/home/gw2397/nbRegg_mcmc')"
   ]
  },
  {
   "cell_type": "markdown",
   "metadata": {},
   "source": [
    "# Load results"
   ]
  },
  {
   "cell_type": "code",
   "execution_count": 3,
   "metadata": {},
   "outputs": [],
   "source": [
    "path = \"/scratch/gw2397/sim_Poi/\"\n",
    "filename = \"Poi_sim\""
   ]
  },
  {
   "cell_type": "code",
   "execution_count": 4,
   "metadata": {},
   "outputs": [],
   "source": [
    "with open(path + filename + '_t_fit.pkl', 'rb') as f: t_fit_Poi = pickle.load(f)\n",
    "with open(path + filename + '_states_fit.pkl', 'rb') as f: states_fit_Poi = pickle.load(f)\n",
    "with open(path + filename + '_Z_fit.pkl', 'rb') as f: Z_fit_Poi = pickle.load(f)"
   ]
  },
  {
   "cell_type": "code",
   "execution_count": 5,
   "metadata": {},
   "outputs": [],
   "source": [
    "n_iter = t_fit_Poi.shape[0]\n",
    "iter_use_start = int(n_iter/4)"
   ]
  },
  {
   "cell_type": "markdown",
   "metadata": {},
   "source": [
    "# 1. Similarity Matrices"
   ]
  },
  {
   "cell_type": "code",
   "execution_count": 6,
   "metadata": {},
   "outputs": [],
   "source": [
    "n = 10\n",
    "nClus = 3\n",
    "p = 2\n",
    "T = 500\n",
    "\n",
    "np.random.seed(0)\n",
    "lab_neuron = np.repeat(np.arange(nClus), n)\n",
    "\n",
    "dd = np.random.normal(size = (n*nClus,1))*0.5\n",
    "C_true= np.random.normal(size = (nClus*n,p))*0.5\n",
    "\n",
    "# works well\n",
    "As = [block_diag(0.01*np.eye(p+1), \n",
    "                 0.01*np.eye(p+1), \n",
    "                 0.01*np.eye(p+1)),\n",
    "      block_diag(1.01*random_rotation(p+1, theta= np.pi/20),\n",
    "                 1.01*random_rotation(p+1, theta= np.pi/20),\n",
    "                 1.01*random_rotation(p+1, theta= np.pi/20))]\n",
    "\n",
    "\n",
    "truemodel = m.ARHSMM(\n",
    "        alpha=5.,init_state_concentration=5.,\n",
    "        obs_distns=[d.AutoRegression(A=A,sigma=np.eye(nClus*(p+1))*1e-2) for A in As],\n",
    "        dur_distns=[pyhsmm.basic.distributions.PoissonDuration(alpha_0=100,beta_0=2)\n",
    "            for state in range(len(As))],\n",
    "        )\n",
    "\n",
    "\n",
    "X_all_tmp, lab_t_tmp = truemodel.generate(2*T, keep=True)\n",
    "X_all = X_all_tmp[501:,:].T\n",
    "lab_t = lab_t_tmp[500:]\n",
    "\n",
    "\n",
    "muX_all = []\n",
    "for cc in range(nClus):\n",
    "    muX_all.append(X_all[(cc*(p+1)):((cc+1)*(p+1)),:])\n",
    "    \n",
    "dynm = {}\n",
    "dynm['As'] = np.zeros((2,3*(p+1),3*(p+1)))\n",
    "dynm['bs'] = np.zeros((2,3*(p+1)))\n",
    "dynm['Qs'] = np.zeros((2,3*(p+1),3*(p+1)))\n",
    "dynm['states'] = np.zeros((T,), dtype = int)\n",
    "\n",
    "\n",
    "# muX_b, C_b, delt_b.ravel(), dynamics_b\n",
    "\n",
    "muX_all, C_true, _, _ = constraint(muX_all, C_true,dd.reshape((-1, 1)),dynm, lab_neuron)    \n",
    "X_all = np.zeros_like(X_all)\n",
    "for cc in range(nClus):\n",
    "    X_all[(cc*(p+1)):((cc+1)*(p+1)),:] = muX_all[cc]\n",
    "\n",
    "    \n",
    "C_trans = np.zeros((n*nClus, (p+1)*nClus))\n",
    "for cc in range(nClus):\n",
    "    C_trans[(n*cc):(n*(cc+1)),(cc*(p+1)):((cc+1)*(p+1))] = np.column_stack((np.ones((n,1)), C_true[(n*cc):(n*(cc+1)),:]))    \n",
    "    \n",
    "Lam_true = np.exp(dd + C_trans @ X_all)\n",
    "r_true = np.ones((n*nClus,1))*10\n",
    "p_true = r_true/(r_true+Lam_true)\n",
    "y = np.random.negative_binomial(r_true, p_true, size=None)"
   ]
  },
  {
   "cell_type": "markdown",
   "metadata": {},
   "source": [
    "## 1A. neuron"
   ]
  },
  {
   "cell_type": "code",
   "execution_count": 7,
   "metadata": {},
   "outputs": [],
   "source": [
    "N = Z_fit_Poi.shape[1]\n",
    "simMat_neuron = np.zeros((N,N))\n",
    "count = 0\n",
    "for g in range(iter_use_start, n_iter):\n",
    "    count = count + 1\n",
    "    for k in range(simMat_neuron.shape[0]):\n",
    "        simMat_neuron[k,:] = simMat_neuron[k,:] + (Z_fit_Poi[g,k] == Z_fit_Poi[g,:])\n",
    "simMat_neuron = simMat_neuron/count\n",
    "\n",
    "simMat_neuron_true = np.zeros((N,N))\n",
    "for k in range(simMat_neuron_true.shape[0]):\n",
    "    simMat_neuron_true[k,:] = (lab_neuron[k] == lab_neuron)"
   ]
  },
  {
   "cell_type": "code",
   "execution_count": 8,
   "metadata": {},
   "outputs": [
    {
     "data": {
      "image/png": "[encoded data removed]",
      "text/plain": [
       "<Figure size 504x216 with 4 Axes>"
      ]
     },
     "metadata": {
      "needs_background": "light"
     },
     "output_type": "display_data"
    }
   ],
   "source": [
    "plt.rcParams['figure.figsize'] = [7, 3]\n",
    "fig, ax = plt.subplots(1, 2)\n",
    "z1 = ax[0].imshow(simMat_neuron, aspect=\"auto\", cmap = 'Greys')\n",
    "ax[0].set_title('samples')\n",
    "plt.colorbar(z1, ax= ax[0])\n",
    "z2 = ax[1].imshow(simMat_neuron_true, aspect=\"auto\", cmap = 'Greys')\n",
    "ax[1].set_title('true')\n",
    "plt.colorbar(z2, ax= ax[1])\n",
    "fig.tight_layout()\n",
    "\n",
    "plt.rcParams['figure.figsize'] = [5, 5]\n",
    "plt.savefig(\"simMat_neuron_poi.svg\")"
   ]
  },
  {
   "cell_type": "markdown",
   "metadata": {},
   "source": [
    "## 1B. states"
   ]
  },
  {
   "cell_type": "code",
   "execution_count": 9,
   "metadata": {},
   "outputs": [],
   "source": [
    "simMat_state = np.zeros((T,T))\n",
    "count = 0\n",
    "\n",
    "for g in range(iter_use_start, n_iter):\n",
    "    count = count + 1\n",
    "    for k in range(simMat_state.shape[0]):\n",
    "        simMat_state[k,:] = simMat_state[k,:] + (states_fit_Poi[g,k] == states_fit_Poi[g,:])\n",
    "simMat_state = simMat_state/count\n",
    "\n",
    "simMat_state_true = np.zeros((T,T))\n",
    "for k in range(simMat_state_true.shape[0]):\n",
    "    simMat_state_true[k,:] = (lab_t[k] == lab_t)\n",
    "sim_order = np.append(np.where(lab_t == 0)[0], np.where(lab_t == 1)[0])"
   ]
  },
  {
   "cell_type": "code",
   "execution_count": 10,
   "metadata": {},
   "outputs": [
    {
     "data": {
      "image/png": "[encoded data removed]",
      "text/plain": [
       "<Figure size 504x216 with 4 Axes>"
      ]
     },
     "metadata": {
      "needs_background": "light"
     },
     "output_type": "display_data"
    }
   ],
   "source": [
    "plt.rcParams['figure.figsize'] = [7, 3]\n",
    "fig, ax = plt.subplots(1, 2)\n",
    "z1 = ax[0].imshow(simMat_state[np.ix_(sim_order, sim_order)], aspect=\"auto\", cmap = 'Greys')\n",
    "ax[0].set_title('samples')\n",
    "plt.colorbar(z1, ax= ax[0])\n",
    "z2 = ax[1].imshow(simMat_state_true[np.ix_(sim_order, sim_order)], aspect=\"auto\", cmap = 'Greys')\n",
    "ax[1].set_title('true')\n",
    "plt.colorbar(z2, ax= ax[1])\n",
    "fig.tight_layout()\n",
    "\n",
    "plt.rcParams['figure.figsize'] = [5, 5]\n",
    "plt.savefig(\"simMat_states_poi.svg\")"
   ]
  },
  {
   "cell_type": "markdown",
   "metadata": {},
   "source": [
    "# 2. maxPEAR of states"
   ]
  },
  {
   "cell_type": "code",
   "execution_count": 11,
   "metadata": {},
   "outputs": [],
   "source": [
    "states_samp_use = states_fit_Poi[iter_use_start:,:]\n",
    "np.savetxt(\"states_samp.csv\", states_samp_use, delimiter=\",\")"
   ]
  },
  {
   "cell_type": "code",
   "execution_count": 12,
   "metadata": {},
   "outputs": [],
   "source": [
    "states_samp_maxPEAR = np.loadtxt(\"states_samp_maxPEAR.csv\", delimiter=\",\", dtype = int) - 1"
   ]
  },
  {
   "cell_type": "code",
   "execution_count": 13,
   "metadata": {},
   "outputs": [
    {
     "data": {
      "text/plain": [
       "473"
      ]
     },
     "execution_count": 13,
     "metadata": {},
     "output_type": "execute_result"
    }
   ],
   "source": [
    "np.unique(states_samp_maxPEAR) # 2\n",
    "swap = {0: 1, 1:0}\n",
    "states_samp_maxPEAR_swap = np.array([swap[x] for x in states_samp_maxPEAR])\n",
    "\n",
    "sum((states_samp_maxPEAR - lab_t)**2)\n",
    "sum((states_samp_maxPEAR_swap - lab_t)**2)"
   ]
  },
  {
   "cell_type": "code",
   "execution_count": 14,
   "metadata": {},
   "outputs": [
    {
     "data": {
      "image/png": "[encoded data removed]",
      "text/plain": [
       "<Figure size 432x36 with 1 Axes>"
      ]
     },
     "metadata": {
      "needs_background": "light"
     },
     "output_type": "display_data"
    }
   ],
   "source": [
    "plt.rcParams['figure.figsize'] = [6, .5]\n",
    "plt.imshow(states_samp_maxPEAR[None,:], aspect=\"auto\", cmap='Pastel1')\n",
    "plt.xlim([0, T])\n",
    "plt.savefig(\"states_maxPEAR_poi.svg\")"
   ]
  },
  {
   "cell_type": "code",
   "execution_count": null,
   "metadata": {},
   "outputs": [],
   "source": []
  }
 ],
 "metadata": {
  "kernelspec": {
   "display_name": "Python 3",
   "language": "python",
   "name": "python3"
  },
  "language_info": {
   "codemirror_mode": {
    "name": "ipython",
    "version": 3
   },
   "file_extension": ".py",
   "mimetype": "text/x-python",
   "name": "python",
   "nbconvert_exporter": "python",
   "pygments_lexer": "ipython3",
   "version": "3.8.6"
  }
 },
 "nbformat": 4,
 "nbformat_minor": 4
}
